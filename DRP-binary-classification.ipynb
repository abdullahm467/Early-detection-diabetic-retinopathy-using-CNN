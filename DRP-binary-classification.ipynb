{
 "cells": [
  {
   "cell_type": "code",
   "execution_count": 1,
   "id": "bf6944fc",
   "metadata": {
    "_cell_guid": "79c7e3d0-c299-4dcb-8224-4455121ee9b0",
    "_uuid": "d629ff2d2480ee46fbb7e2d37f6b5fab8052498a",
    "execution": {
     "iopub.execute_input": "2022-08-28T23:46:23.149505Z",
     "iopub.status.busy": "2022-08-28T23:46:23.148660Z",
     "iopub.status.idle": "2022-08-28T23:46:29.556890Z",
     "shell.execute_reply": "2022-08-28T23:46:29.555888Z"
    },
    "id": "nFAm6AkR5dem",
    "papermill": {
     "duration": 6.420723,
     "end_time": "2022-08-28T23:46:29.559463",
     "exception": false,
     "start_time": "2022-08-28T23:46:23.138740",
     "status": "completed"
    },
    "tags": []
   },
   "outputs": [],
   "source": [
    "from tensorflow import lite\n",
    "import tensorflow as tf\n",
    "from tensorflow import keras\n",
    "from tensorflow.keras import layers\n",
    "from tensorflow.keras.models import Model\n",
    "import numpy as np\n",
    "import pandas as pd\n",
    "import random, os\n",
    "import shutil\n",
    "import matplotlib.pyplot as plt\n",
    "from matplotlib.image import imread\n",
    "from keras.preprocessing.image import ImageDataGenerator\n",
    "from tensorflow.keras.metrics import categorical_accuracy\n",
    "from sklearn.model_selection import train_test_split\n",
    "from sklearn.metrics import classification_report\n",
    "from sklearn.metrics import confusion_matrix\n",
    "import seaborn as sns\n",
    "from sklearn.metrics import roc_curve, auc\n",
    "from sklearn.metrics import cohen_kappa_score"
   ]
  },
  {
   "cell_type": "code",
   "execution_count": 2,
   "id": "58274f54",
   "metadata": {
    "execution": {
     "iopub.execute_input": "2022-08-28T23:46:29.575964Z",
     "iopub.status.busy": "2022-08-28T23:46:29.575341Z",
     "iopub.status.idle": "2022-08-28T23:46:29.638988Z",
     "shell.execute_reply": "2022-08-28T23:46:29.638063Z"
    },
    "id": "02HUx5fs5dew",
    "outputId": "feb7cede-7dac-4619-9267-9bc4fda77e1f",
    "papermill": {
     "duration": 0.07446,
     "end_time": "2022-08-28T23:46:29.641285",
     "exception": false,
     "start_time": "2022-08-28T23:46:29.566825",
     "status": "completed"
    },
    "tags": []
   },
   "outputs": [
    {
     "data": {
      "text/html": [
       "<div>\n",
       "<style scoped>\n",
       "    .dataframe tbody tr th:only-of-type {\n",
       "        vertical-align: middle;\n",
       "    }\n",
       "\n",
       "    .dataframe tbody tr th {\n",
       "        vertical-align: top;\n",
       "    }\n",
       "\n",
       "    .dataframe thead th {\n",
       "        text-align: right;\n",
       "    }\n",
       "</style>\n",
       "<table border=\"1\" class=\"dataframe\">\n",
       "  <thead>\n",
       "    <tr style=\"text-align: right;\">\n",
       "      <th></th>\n",
       "      <th>image</th>\n",
       "      <th>level</th>\n",
       "      <th>binary_type</th>\n",
       "      <th>type</th>\n",
       "    </tr>\n",
       "  </thead>\n",
       "  <tbody>\n",
       "    <tr>\n",
       "      <th>0</th>\n",
       "      <td>10_left</td>\n",
       "      <td>0</td>\n",
       "      <td>No_DR</td>\n",
       "      <td>No_DR</td>\n",
       "    </tr>\n",
       "    <tr>\n",
       "      <th>1</th>\n",
       "      <td>10_right</td>\n",
       "      <td>0</td>\n",
       "      <td>No_DR</td>\n",
       "      <td>No_DR</td>\n",
       "    </tr>\n",
       "    <tr>\n",
       "      <th>2</th>\n",
       "      <td>13_left</td>\n",
       "      <td>0</td>\n",
       "      <td>No_DR</td>\n",
       "      <td>No_DR</td>\n",
       "    </tr>\n",
       "    <tr>\n",
       "      <th>3</th>\n",
       "      <td>13_right</td>\n",
       "      <td>0</td>\n",
       "      <td>No_DR</td>\n",
       "      <td>No_DR</td>\n",
       "    </tr>\n",
       "    <tr>\n",
       "      <th>4</th>\n",
       "      <td>15_left</td>\n",
       "      <td>1</td>\n",
       "      <td>DR</td>\n",
       "      <td>Mild</td>\n",
       "    </tr>\n",
       "  </tbody>\n",
       "</table>\n",
       "</div>"
      ],
      "text/plain": [
       "      image  level binary_type   type\n",
       "0   10_left      0       No_DR  No_DR\n",
       "1  10_right      0       No_DR  No_DR\n",
       "2   13_left      0       No_DR  No_DR\n",
       "3  13_right      0       No_DR  No_DR\n",
       "4   15_left      1          DR   Mild"
      ]
     },
     "execution_count": 2,
     "metadata": {},
     "output_type": "execute_result"
    }
   ],
   "source": [
    "# Add an additional column, mapping to the type\n",
    "df = pd.read_csv(r'../input/diabetic-retinopathy-2015-data-colored-resized/trainLabels.csv')\n",
    "\n",
    "diagnosis_dict_binary = {\n",
    "    0: 'No_DR',\n",
    "    1: 'DR',\n",
    "    2: 'DR',\n",
    "    3: 'DR',\n",
    "    4: 'DR'\n",
    "}\n",
    "\n",
    "diagnosis_dict = {\n",
    "    0: 'No_DR',\n",
    "    1: 'Mild',\n",
    "    2: 'Moderate',\n",
    "    3: 'Severe',\n",
    "    4: 'Proliferate_DR',\n",
    "}\n",
    "\n",
    "\n",
    "df['binary_type'] =  df['level'].map(diagnosis_dict_binary.get)\n",
    "df['type'] = df['level'].map(diagnosis_dict.get)\n",
    "df.head()"
   ]
  },
  {
   "cell_type": "code",
   "execution_count": 3,
   "id": "2f77aab7",
   "metadata": {
    "execution": {
     "iopub.execute_input": "2022-08-28T23:46:29.658213Z",
     "iopub.status.busy": "2022-08-28T23:46:29.657226Z",
     "iopub.status.idle": "2022-08-28T23:46:29.873367Z",
     "shell.execute_reply": "2022-08-28T23:46:29.872336Z"
    },
    "id": "hariTLPu5de2",
    "outputId": "e823b0da-b643-4d00-8a5f-9d5c2b6fcc2a",
    "papermill": {
     "duration": 0.226797,
     "end_time": "2022-08-28T23:46:29.875819",
     "exception": false,
     "start_time": "2022-08-28T23:46:29.649022",
     "status": "completed"
    },
    "tags": []
   },
   "outputs": [
    {
     "data": {
      "text/plain": [
       "<AxesSubplot:>"
      ]
     },
     "execution_count": 3,
     "metadata": {},
     "output_type": "execute_result"
    },
    {
     "data": {
      "image/png": "[encoded data removed]",
      "text/plain": [
       "<Figure size 432x288 with 1 Axes>"
      ]
     },
     "metadata": {
      "needs_background": "light"
     },
     "output_type": "display_data"
    }
   ],
   "source": [
    "df['type'].value_counts().plot(kind='barh')"
   ]
  },
  {
   "cell_type": "code",
   "execution_count": 4,
   "id": "759e7aa4",
   "metadata": {
    "execution": {
     "iopub.execute_input": "2022-08-28T23:46:29.891853Z",
     "iopub.status.busy": "2022-08-28T23:46:29.891562Z",
     "iopub.status.idle": "2022-08-28T23:46:30.054909Z",
     "shell.execute_reply": "2022-08-28T23:46:30.053957Z"
    },
    "id": "mNpDtYla5de4",
    "outputId": "c7c99fb8-d41a-47e9-dab0-416cea5033ca",
    "papermill": {
     "duration": 0.173687,
     "end_time": "2022-08-28T23:46:30.057103",
     "exception": false,
     "start_time": "2022-08-28T23:46:29.883416",
     "status": "completed"
    },
    "tags": []
   },
   "outputs": [
    {
     "data": {
      "text/plain": [
       "<AxesSubplot:>"
      ]
     },
     "execution_count": 4,
     "metadata": {},
     "output_type": "execute_result"
    },
    {
     "data": {
      "image/png": "[encoded data removed]",
      "text/plain": [
       "<Figure size 432x288 with 1 Axes>"
      ]
     },
     "metadata": {
      "needs_background": "light"
     },
     "output_type": "display_data"
    }
   ],
   "source": [
    "df['binary_type'].value_counts().plot(kind='barh')"
   ]
  },
  {
   "cell_type": "code",
   "execution_count": 5,
   "id": "b7fb3e6b",
   "metadata": {
    "execution": {
     "iopub.execute_input": "2022-08-28T23:46:30.075499Z",
     "iopub.status.busy": "2022-08-28T23:46:30.074662Z",
     "iopub.status.idle": "2022-08-28T23:46:30.142149Z",
     "shell.execute_reply": "2022-08-28T23:46:30.141021Z"
    },
    "id": "4NoJW5jl5de4",
    "outputId": "262e22c1-89c5-4a37-8cc3-396a31e270d0",
    "papermill": {
     "duration": 0.079281,
     "end_time": "2022-08-28T23:46:30.145051",
     "exception": false,
     "start_time": "2022-08-28T23:46:30.065770",
     "status": "completed"
    },
    "tags": []
   },
   "outputs": [
    {
     "name": "stdout",
     "output_type": "stream",
     "text": [
      "No_DR             18067\n",
      "Moderate           3704\n",
      "Mild               1710\n",
      "Severe              611\n",
      "Proliferate_DR      496\n",
      "Name: type, dtype: int64 \n",
      "\n",
      "No_DR             3871\n",
      "Moderate           794\n",
      "Mild               367\n",
      "Severe             131\n",
      "Proliferate_DR     106\n",
      "Name: type, dtype: int64 \n",
      "\n",
      "No_DR             3872\n",
      "Moderate           794\n",
      "Mild               366\n",
      "Severe             131\n",
      "Proliferate_DR     106\n",
      "Name: type, dtype: int64 \n",
      "\n"
     ]
    }
   ],
   "source": [
    "# Split into stratified train, val, and test sets\n",
    "train_intermediate, val = train_test_split(df, test_size = 0.15, stratify = df['type'])\n",
    "train, test = train_test_split(train_intermediate, test_size = 0.15 / (1 - 0.15), stratify = train_intermediate['type'])\n",
    "\n",
    "print(train['type'].value_counts(), '\\n')\n",
    "print(test['type'].value_counts(), '\\n')\n",
    "print(val['type'].value_counts(), '\\n')\n"
   ]
  },
  {
   "cell_type": "code",
   "execution_count": 6,
   "id": "3e768783",
   "metadata": {
    "execution": {
     "iopub.execute_input": "2022-08-28T23:46:30.161865Z",
     "iopub.status.busy": "2022-08-28T23:46:30.161577Z",
     "iopub.status.idle": "2022-08-28T23:46:30.169628Z",
     "shell.execute_reply": "2022-08-28T23:46:30.168786Z"
    },
    "id": "2UEAgD0W5de6",
    "papermill": {
     "duration": 0.018627,
     "end_time": "2022-08-28T23:46:30.171556",
     "exception": false,
     "start_time": "2022-08-28T23:46:30.152929",
     "status": "completed"
    },
    "tags": []
   },
   "outputs": [],
   "source": [
    "# Create working directories for train/val/test\n",
    "base_dir = ''\n",
    "\n",
    "train_dir = os.path.join(base_dir, 'train')\n",
    "val_dir = os.path.join(base_dir, 'val')\n",
    "test_dir = os.path.join(base_dir, 'test')\n",
    "\n",
    "if os.path.exists(base_dir):\n",
    "    shutil.rmtree(base_dir)\n",
    "\n",
    "if os.path.exists(train_dir):\n",
    "    shutil.rmtree(train_dir)\n",
    "os.makedirs(train_dir)\n",
    "\n",
    "if os.path.exists(val_dir):\n",
    "    shutil.rmtree(val_dir)\n",
    "os.makedirs(val_dir)\n",
    "\n",
    "if os.path.exists(test_dir):\n",
    "    shutil.rmtree(test_dir)\n",
    "os.makedirs(test_dir)\n"
   ]
  },
  {
   "cell_type": "code",
   "execution_count": 7,
   "id": "6921fefd",
   "metadata": {
    "execution": {
     "iopub.execute_input": "2022-08-28T23:46:30.187423Z",
     "iopub.status.busy": "2022-08-28T23:46:30.187138Z",
     "iopub.status.idle": "2022-08-28T23:48:56.342096Z",
     "shell.execute_reply": "2022-08-28T23:48:56.341106Z"
    },
    "id": "sweLv9175de9",
    "papermill": {
     "duration": 146.165986,
     "end_time": "2022-08-28T23:48:56.344928",
     "exception": false,
     "start_time": "2022-08-28T23:46:30.178942",
     "status": "completed"
    },
    "tags": []
   },
   "outputs": [],
   "source": [
    "# Copy images to respective working directory\n",
    "src_dir = r'../input/diabetic-retinopathy-2015-data-colored-resized/colored_images/colored_images'\n",
    "for index, row in train.iterrows():\n",
    "    diagnosis = row['type']\n",
    "    binary_diagnosis = row['binary_type']\n",
    "    id_code = row['image'] + \".png\"\n",
    "    srcfile = os.path.join(src_dir, diagnosis, id_code)\n",
    "    dstfile = os.path.join(train_dir, binary_diagnosis)\n",
    "    os.makedirs(dstfile, exist_ok = True)\n",
    "    shutil.copy(srcfile, dstfile)\n",
    "\n",
    "for index, row in val.iterrows():\n",
    "    diagnosis = row['type']\n",
    "    binary_diagnosis = row['binary_type']\n",
    "    id_code = row['image'] + \".png\"\n",
    "    srcfile = os.path.join(src_dir, diagnosis, id_code)\n",
    "    dstfile = os.path.join(val_dir, binary_diagnosis)\n",
    "    os.makedirs(dstfile, exist_ok = True)\n",
    "    shutil.copy(srcfile, dstfile)\n",
    " \n",
    "for index, row in test.iterrows():\n",
    "    diagnosis = row['type']\n",
    "    binary_diagnosis = row['binary_type']\n",
    "    id_code = row['image'] + \".png\"\n",
    "    srcfile = os.path.join(src_dir, diagnosis, id_code)\n",
    "    dstfile = os.path.join(test_dir, binary_diagnosis)\n",
    "    os.makedirs(dstfile, exist_ok = True)\n",
    "    shutil.copy(srcfile, dstfile)\n"
   ]
  },
  {
   "cell_type": "code",
   "execution_count": 8,
   "id": "4d6a50ad",
   "metadata": {
    "execution": {
     "iopub.execute_input": "2022-08-28T23:48:56.362628Z",
     "iopub.status.busy": "2022-08-28T23:48:56.361804Z",
     "iopub.status.idle": "2022-08-28T23:48:57.632731Z",
     "shell.execute_reply": "2022-08-28T23:48:57.631827Z"
    },
    "id": "kcYe-AOO5dfA",
    "outputId": "c816c2a6-1d4b-4488-a5a6-4800819b96d7",
    "papermill": {
     "duration": 1.281807,
     "end_time": "2022-08-28T23:48:57.634907",
     "exception": false,
     "start_time": "2022-08-28T23:48:56.353100",
     "status": "completed"
    },
    "tags": []
   },
   "outputs": [
    {
     "name": "stdout",
     "output_type": "stream",
     "text": [
      "Found 24588 images belonging to 2 classes.\n",
      "Found 5269 images belonging to 2 classes.\n",
      "Found 5269 images belonging to 2 classes.\n"
     ]
    }
   ],
   "source": [
    "# Setting up ImageDataGenerator for train/val/test \n",
    "\n",
    "train_path = 'train'\n",
    "val_path = 'val'\n",
    "test_path = 'test'\n",
    "\n",
    "train_batches = ImageDataGenerator(rescale = 1./255).flow_from_directory(train_path, target_size=(224,224), shuffle = True)\n",
    "val_batches = ImageDataGenerator(rescale = 1./255).flow_from_directory(val_path, target_size=(224,224), shuffle = True)\n",
    "test_batches = ImageDataGenerator(rescale = 1./255).flow_from_directory(test_path, target_size=(224,224), shuffle = False)\n"
   ]
  },
  {
   "cell_type": "markdown",
   "id": "8815ef0b",
   "metadata": {
    "papermill": {
     "duration": 0.007469,
     "end_time": "2022-08-28T23:48:57.650606",
     "exception": false,
     "start_time": "2022-08-28T23:48:57.643137",
     "status": "completed"
    },
    "tags": []
   },
   "source": [
    "### Custom CNN"
   ]
  },
  {
   "cell_type": "code",
   "execution_count": 9,
   "id": "ef696780",
   "metadata": {
    "execution": {
     "iopub.execute_input": "2022-08-28T23:48:57.667117Z",
     "iopub.status.busy": "2022-08-28T23:48:57.666803Z",
     "iopub.status.idle": "2022-08-29T00:07:59.778966Z",
     "shell.execute_reply": "2022-08-29T00:07:59.777981Z"
    },
    "id": "NHgHS22d5dfE",
    "outputId": "6ae2499c-e780-47d0-9165-89c3868c2822",
    "papermill": {
     "duration": 1142.757131,
     "end_time": "2022-08-29T00:08:00.415314",
     "exception": false,
     "start_time": "2022-08-28T23:48:57.658183",
     "status": "completed"
    },
    "tags": []
   },
   "outputs": [
    {
     "name": "stderr",
     "output_type": "stream",
     "text": [
      "2022-08-28 23:48:57.778002: I tensorflow/stream_executor/cuda/cuda_gpu_executor.cc:937] successful NUMA node read from SysFS had negative value (-1), but there must be at least one NUMA node, so returning NUMA node zero\n",
      "2022-08-28 23:48:57.936829: I tensorflow/stream_executor/cuda/cuda_gpu_executor.cc:937] successful NUMA node read from SysFS had negative value (-1), but there must be at least one NUMA node, so returning NUMA node zero\n",
      "2022-08-28 23:48:57.937684: I tensorflow/stream_executor/cuda/cuda_gpu_executor.cc:937] successful NUMA node read from SysFS had negative value (-1), but there must be at least one NUMA node, so returning NUMA node zero\n",
      "2022-08-28 23:48:57.939612: I tensorflow/core/platform/cpu_feature_guard.cc:142] This TensorFlow binary is optimized with oneAPI Deep Neural Network Library (oneDNN) to use the following CPU instructions in performance-critical operations:  AVX2 AVX512F FMA\n",
      "To enable them in other operations, rebuild TensorFlow with the appropriate compiler flags.\n",
      "2022-08-28 23:48:57.939927: I tensorflow/stream_executor/cuda/cuda_gpu_executor.cc:937] successful NUMA node read from SysFS had negative value (-1), but there must be at least one NUMA node, so returning NUMA node zero\n",
      "2022-08-28 23:48:57.940782: I tensorflow/stream_executor/cuda/cuda_gpu_executor.cc:937] successful NUMA node read from SysFS had negative value (-1), but there must be at least one NUMA node, so returning NUMA node zero\n",
      "2022-08-28 23:48:57.941459: I tensorflow/stream_executor/cuda/cuda_gpu_executor.cc:937] successful NUMA node read from SysFS had negative value (-1), but there must be at least one NUMA node, so returning NUMA node zero\n",
      "2022-08-28 23:49:00.307767: I tensorflow/stream_executor/cuda/cuda_gpu_executor.cc:937] successful NUMA node read from SysFS had negative value (-1), but there must be at least one NUMA node, so returning NUMA node zero\n",
      "2022-08-28 23:49:00.308651: I tensorflow/stream_executor/cuda/cuda_gpu_executor.cc:937] successful NUMA node read from SysFS had negative value (-1), but there must be at least one NUMA node, so returning NUMA node zero\n",
      "2022-08-28 23:49:00.309350: I tensorflow/stream_executor/cuda/cuda_gpu_executor.cc:937] successful NUMA node read from SysFS had negative value (-1), but there must be at least one NUMA node, so returning NUMA node zero\n",
      "2022-08-28 23:49:00.309958: I tensorflow/core/common_runtime/gpu/gpu_device.cc:1510] Created device /job:localhost/replica:0/task:0/device:GPU:0 with 15403 MB memory:  -> device: 0, name: Tesla P100-PCIE-16GB, pci bus id: 0000:00:04.0, compute capability: 6.0\n",
      "/opt/conda/lib/python3.7/site-packages/keras/optimizer_v2/optimizer_v2.py:356: UserWarning: The `lr` argument is deprecated, use `learning_rate` instead.\n",
      "  \"The `lr` argument is deprecated, use `learning_rate` instead.\")\n",
      "2022-08-28 23:49:00.943797: I tensorflow/compiler/mlir/mlir_graph_optimization_pass.cc:185] None of the MLIR Optimization Passes are enabled (registered 2)\n"
     ]
    },
    {
     "name": "stdout",
     "output_type": "stream",
     "text": [
      "Epoch 1/15\n"
     ]
    },
    {
     "name": "stderr",
     "output_type": "stream",
     "text": [
      "2022-08-28 23:49:02.591274: I tensorflow/stream_executor/cuda/cuda_dnn.cc:369] Loaded cuDNN version 8005\n"
     ]
    },
    {
     "name": "stdout",
     "output_type": "stream",
     "text": [
      "769/769 [==============================] - 78s 92ms/step - loss: 0.5892 - acc: 0.7289 - val_loss: 0.5645 - val_acc: 0.7349\n",
      "Epoch 2/15\n",
      "769/769 [==============================] - 70s 92ms/step - loss: 0.5658 - acc: 0.7353 - val_loss: 0.5559 - val_acc: 0.7358\n",
      "Epoch 3/15\n",
      "769/769 [==============================] - 74s 96ms/step - loss: 0.5591 - acc: 0.7353 - val_loss: 0.5558 - val_acc: 0.7358\n",
      "Epoch 4/15\n",
      "769/769 [==============================] - 72s 94ms/step - loss: 0.5550 - acc: 0.7376 - val_loss: 0.5550 - val_acc: 0.7366\n",
      "Epoch 5/15\n",
      "769/769 [==============================] - 70s 90ms/step - loss: 0.5522 - acc: 0.7384 - val_loss: 0.5544 - val_acc: 0.7370\n",
      "Epoch 6/15\n",
      "769/769 [==============================] - 70s 91ms/step - loss: 0.5480 - acc: 0.7393 - val_loss: 0.5486 - val_acc: 0.7392\n",
      "Epoch 7/15\n",
      "769/769 [==============================] - 70s 90ms/step - loss: 0.5447 - acc: 0.7413 - val_loss: 0.5463 - val_acc: 0.7407\n",
      "Epoch 8/15\n",
      "769/769 [==============================] - 80s 103ms/step - loss: 0.5422 - acc: 0.7429 - val_loss: 0.5471 - val_acc: 0.7421\n",
      "Epoch 9/15\n",
      "769/769 [==============================] - 72s 94ms/step - loss: 0.5374 - acc: 0.7457 - val_loss: 0.5518 - val_acc: 0.7438\n",
      "Epoch 10/15\n",
      "769/769 [==============================] - 70s 92ms/step - loss: 0.5353 - acc: 0.7469 - val_loss: 0.5485 - val_acc: 0.7396\n",
      "Epoch 11/15\n",
      "769/769 [==============================] - 70s 91ms/step - loss: 0.5316 - acc: 0.7481 - val_loss: 0.5485 - val_acc: 0.7390\n",
      "Epoch 12/15\n",
      "769/769 [==============================] - 75s 97ms/step - loss: 0.5274 - acc: 0.7492 - val_loss: 0.5455 - val_acc: 0.7421\n",
      "Epoch 13/15\n",
      "769/769 [==============================] - 71s 92ms/step - loss: 0.5260 - acc: 0.7509 - val_loss: 0.5458 - val_acc: 0.7413\n",
      "Epoch 14/15\n",
      "769/769 [==============================] - 72s 94ms/step - loss: 0.5228 - acc: 0.7510 - val_loss: 0.5461 - val_acc: 0.7438\n",
      "Epoch 15/15\n",
      "769/769 [==============================] - 71s 93ms/step - loss: 0.5193 - acc: 0.7557 - val_loss: 0.5464 - val_acc: 0.7411\n"
     ]
    }
   ],
   "source": [
    "# Building the model\n",
    "\n",
    "cnn_model = tf.keras.Sequential([\n",
    "    layers.Conv2D(8, (3,3), padding=\"valid\", input_shape=(224,224,3), activation = 'relu'),\n",
    "    layers.MaxPooling2D(pool_size=(2,2)),\n",
    "    layers.BatchNormalization(),\n",
    "      \n",
    "    layers.Conv2D(16, (3,3), padding=\"valid\", activation = 'relu'),\n",
    "    layers.MaxPooling2D(pool_size=(2,2)),\n",
    "    layers.BatchNormalization(),\n",
    "    \n",
    "    layers.Conv2D(32, (4,4), padding=\"valid\", activation = 'relu'),\n",
    "    layers.MaxPooling2D(pool_size=(2,2)),\n",
    "    layers.BatchNormalization(),\n",
    " \n",
    "    layers.Flatten(),\n",
    "    layers.Dense(32, activation = 'relu'),\n",
    "    layers.Dropout(0.15),\n",
    "    layers.Dense(2, activation = 'softmax')\n",
    "])\n",
    "\n",
    "cnn_model.compile(optimizer=tf.keras.optimizers.Adam(lr = 1e-5),\n",
    "              loss=tf.keras.losses.BinaryCrossentropy(),\n",
    "              metrics=['acc'])\n",
    "\n",
    "history = cnn_model.fit(train_batches,\n",
    "                    epochs=15,\n",
    "                    validation_data=val_batches)"
   ]
  },
  {
   "cell_type": "code",
   "execution_count": 10,
   "id": "f1a280e6",
   "metadata": {
    "execution": {
     "iopub.execute_input": "2022-08-29T00:08:01.676085Z",
     "iopub.status.busy": "2022-08-29T00:08:01.675448Z",
     "iopub.status.idle": "2022-08-29T00:08:04.107680Z",
     "shell.execute_reply": "2022-08-29T00:08:04.106746Z"
    },
    "id": "IBOVVVRc5dfu",
    "outputId": "625ca660-456b-4517-f62d-135583381a45",
    "papermill": {
     "duration": 3.097928,
     "end_time": "2022-08-29T00:08:04.113158",
     "exception": false,
     "start_time": "2022-08-29T00:08:01.015230",
     "status": "completed"
    },
    "tags": []
   },
   "outputs": [
    {
     "name": "stderr",
     "output_type": "stream",
     "text": [
      "2022-08-29 00:08:02.381619: W tensorflow/python/util/util.cc:348] Sets are not currently considered sequences, but this may change in the future, so consider avoiding using them.\n"
     ]
    }
   ],
   "source": [
    "cnn_model.save('dissertation-CNN.model')"
   ]
  },
  {
   "cell_type": "code",
   "execution_count": 11,
   "id": "91e57f59",
   "metadata": {
    "execution": {
     "iopub.execute_input": "2022-08-29T00:08:05.352639Z",
     "iopub.status.busy": "2022-08-29T00:08:05.352278Z",
     "iopub.status.idle": "2022-08-29T00:08:18.005338Z",
     "shell.execute_reply": "2022-08-29T00:08:18.004323Z"
    },
    "papermill": {
     "duration": 13.303138,
     "end_time": "2022-08-29T00:08:18.007824",
     "exception": false,
     "start_time": "2022-08-29T00:08:04.704686",
     "status": "completed"
    },
    "tags": []
   },
   "outputs": [],
   "source": [
    "Y_pred=cnn_model.predict(test_batches)\n",
    "y_pred = np.argmax(Y_pred, axis=1)"
   ]
  },
  {
   "cell_type": "code",
   "execution_count": 12,
   "id": "9fbcdabd",
   "metadata": {
    "execution": {
     "iopub.execute_input": "2022-08-29T00:08:19.255948Z",
     "iopub.status.busy": "2022-08-29T00:08:19.255576Z",
     "iopub.status.idle": "2022-08-29T00:08:19.486360Z",
     "shell.execute_reply": "2022-08-29T00:08:19.485420Z"
    },
    "papermill": {
     "duration": 0.879425,
     "end_time": "2022-08-29T00:08:19.488359",
     "exception": false,
     "start_time": "2022-08-29T00:08:18.608934",
     "status": "completed"
    },
    "tags": []
   },
   "outputs": [
    {
     "data": {
      "image/png": "[encoded data removed]",
      "text/plain": [
       "<Figure size 360x360 with 2 Axes>"
      ]
     },
     "metadata": {
      "needs_background": "light"
     },
     "output_type": "display_data"
    }
   ],
   "source": [
    "confusion_mtx = confusion_matrix(y_pred, test_batches.classes)\n",
    "f,ax = plt.subplots(figsize=(5, 5))\n",
    "sns.heatmap(confusion_mtx, annot=True, \n",
    "            linewidths=0.01,\n",
    "            linecolor=\"white\", \n",
    "            fmt= '.1f',ax=ax,)\n",
    "sns.color_palette(\"rocket\", as_cmap=True)\n",
    "\n",
    "plt.xlabel(\"Predicted Label\")\n",
    "plt.ylabel(\"True Label\")\n",
    "ax.xaxis.set_ticklabels(test_batches.class_indices)\n",
    "patient_labels = ['No DR','DR']\n",
    "ax.yaxis.set_ticklabels(patient_labels)\n",
    "plt.title(\"Confusion Matrix\")\n",
    "plt.show()"
   ]
  },
  {
   "cell_type": "code",
   "execution_count": 13,
   "id": "56e86a07",
   "metadata": {
    "execution": {
     "iopub.execute_input": "2022-08-29T00:08:20.738069Z",
     "iopub.status.busy": "2022-08-29T00:08:20.737721Z",
     "iopub.status.idle": "2022-08-29T00:08:20.932291Z",
     "shell.execute_reply": "2022-08-29T00:08:20.931191Z"
    },
    "papermill": {
     "duration": 0.799887,
     "end_time": "2022-08-29T00:08:20.934625",
     "exception": false,
     "start_time": "2022-08-29T00:08:20.134738",
     "status": "completed"
    },
    "tags": []
   },
   "outputs": [
    {
     "data": {
      "image/png": "[encoded data removed]",
      "text/plain": [
       "<Figure size 432x288 with 1 Axes>"
      ]
     },
     "metadata": {
      "needs_background": "light"
     },
     "output_type": "display_data"
    }
   ],
   "source": [
    "fpr = 0\n",
    "tpr = 0\n",
    "roc_auc = 0\n",
    "fpr, tpr, _ = roc_curve(test_batches.classes, y_pred)\n",
    "roc_auc = auc(fpr, tpr)\n",
    "plt.figure()\n",
    "plt.plot(\n",
    "    fpr,\n",
    "    tpr,\n",
    "    color=\"darkorange\",\n",
    "    lw=2,\n",
    "    label=\"ROC curve (area = %0.2f)\" % roc_auc,\n",
    ")\n",
    "plt.plot([0, 1], [0, 1], color=\"navy\", lw=2, linestyle=\"--\")\n",
    "plt.xlim([0.0, 1.0])\n",
    "plt.ylim([0.0, 1.05])\n",
    "plt.xlabel(\"False Positive Rate\")\n",
    "plt.ylabel(\"True Positive Rate\")\n",
    "plt.title(\"Receiver operating characteristic - Custom CNN\")\n",
    "plt.legend(loc=\"lower right\")\n",
    "plt.show()"
   ]
  },
  {
   "cell_type": "code",
   "execution_count": 14,
   "id": "c80ed795",
   "metadata": {
    "execution": {
     "iopub.execute_input": "2022-08-29T00:08:22.175723Z",
     "iopub.status.busy": "2022-08-29T00:08:22.175366Z",
     "iopub.status.idle": "2022-08-29T00:08:22.189980Z",
     "shell.execute_reply": "2022-08-29T00:08:22.188801Z"
    },
    "papermill": {
     "duration": 0.66254,
     "end_time": "2022-08-29T00:08:22.192091",
     "exception": false,
     "start_time": "2022-08-29T00:08:21.529551",
     "status": "completed"
    },
    "tags": []
   },
   "outputs": [
    {
     "name": "stdout",
     "output_type": "stream",
     "text": [
      "              precision    recall  f1-score   support\n",
      "\n",
      "           0       0.58      0.08      0.14      1398\n",
      "           1       0.75      0.98      0.85      3871\n",
      "\n",
      "    accuracy                           0.74      5269\n",
      "   macro avg       0.66      0.53      0.50      5269\n",
      "weighted avg       0.70      0.74      0.66      5269\n",
      "\n"
     ]
    }
   ],
   "source": [
    "print(classification_report(test_batches.classes, y_pred))"
   ]
  },
  {
   "cell_type": "code",
   "execution_count": 15,
   "id": "b55ef150",
   "metadata": {
    "execution": {
     "iopub.execute_input": "2022-08-29T00:08:23.454602Z",
     "iopub.status.busy": "2022-08-29T00:08:23.454219Z",
     "iopub.status.idle": "2022-08-29T00:08:36.307005Z",
     "shell.execute_reply": "2022-08-29T00:08:36.305930Z"
    },
    "id": "IgJED3835dfv",
    "outputId": "62f56046-72c3-48ce-ad85-4dcce241a976",
    "papermill": {
     "duration": 13.499796,
     "end_time": "2022-08-29T00:08:36.309246",
     "exception": false,
     "start_time": "2022-08-29T00:08:22.809450",
     "status": "completed"
    },
    "tags": []
   },
   "outputs": [
    {
     "name": "stderr",
     "output_type": "stream",
     "text": [
      "/opt/conda/lib/python3.7/site-packages/keras/engine/training.py:2006: UserWarning: `Model.evaluate_generator` is deprecated and will be removed in a future version. Please use `Model.evaluate`, which supports generators.\n",
      "  warnings.warn('`Model.evaluate_generator` is deprecated and '\n"
     ]
    },
    {
     "name": "stdout",
     "output_type": "stream",
     "text": [
      "165/165 [==============================] - 13s 77ms/step - loss: 0.5474 - acc: 0.7407\n",
      "Accuracy:  0.7407477498054504\n"
     ]
    }
   ],
   "source": [
    "loss, acc = cnn_model.evaluate_generator(test_batches, verbose=1)\n",
    "# print(\"Loss: \", loss)\n",
    "print(\"Accuracy: \", acc) \n"
   ]
  },
  {
   "cell_type": "code",
   "execution_count": 16,
   "id": "97117822",
   "metadata": {
    "execution": {
     "iopub.execute_input": "2022-08-29T00:08:37.562409Z",
     "iopub.status.busy": "2022-08-29T00:08:37.561964Z",
     "iopub.status.idle": "2022-08-29T00:08:37.570968Z",
     "shell.execute_reply": "2022-08-29T00:08:37.569063Z"
    },
    "papermill": {
     "duration": 0.667386,
     "end_time": "2022-08-29T00:08:37.577817",
     "exception": false,
     "start_time": "2022-08-29T00:08:36.910431",
     "status": "completed"
    },
    "tags": []
   },
   "outputs": [
    {
     "name": "stdout",
     "output_type": "stream",
     "text": [
      "Custom CNN Cohen Kappas Value: 0.08379401699348599\n"
     ]
    }
   ],
   "source": [
    "print('Custom CNN Cohen Kappas Value: ' + str(cohen_kappa_score(test_batches.classes, y_pred, labels=None, weights=None)))"
   ]
  },
  {
   "cell_type": "markdown",
   "id": "cece49b3",
   "metadata": {
    "papermill": {
     "duration": 0.652444,
     "end_time": "2022-08-29T00:08:38.835357",
     "exception": false,
     "start_time": "2022-08-29T00:08:38.182913",
     "status": "completed"
    },
    "tags": []
   },
   "source": [
    "### VGG16"
   ]
  },
  {
   "cell_type": "code",
   "execution_count": 17,
   "id": "547ded1d",
   "metadata": {
    "execution": {
     "iopub.execute_input": "2022-08-29T00:08:40.092529Z",
     "iopub.status.busy": "2022-08-29T00:08:40.091962Z",
     "iopub.status.idle": "2022-08-29T00:38:29.705564Z",
     "shell.execute_reply": "2022-08-29T00:38:29.704312Z"
    },
    "papermill": {
     "duration": 1791.6184,
     "end_time": "2022-08-29T00:38:31.061831",
     "exception": false,
     "start_time": "2022-08-29T00:08:39.443431",
     "status": "completed"
    },
    "tags": []
   },
   "outputs": [
    {
     "name": "stderr",
     "output_type": "stream",
     "text": [
      "/opt/conda/lib/python3.7/site-packages/keras/optimizer_v2/optimizer_v2.py:356: UserWarning: The `lr` argument is deprecated, use `learning_rate` instead.\n",
      "  \"The `lr` argument is deprecated, use `learning_rate` instead.\")\n"
     ]
    },
    {
     "name": "stdout",
     "output_type": "stream",
     "text": [
      "Epoch 1/10\n",
      "769/769 [==============================] - 170s 216ms/step - loss: 0.5832 - acc: 0.7348 - val_loss: 0.5799 - val_acc: 0.7349\n",
      "Epoch 2/10\n",
      "769/769 [==============================] - 163s 212ms/step - loss: 0.5780 - acc: 0.7348 - val_loss: 0.5738 - val_acc: 0.7349\n",
      "Epoch 3/10\n",
      "769/769 [==============================] - 163s 212ms/step - loss: 0.5753 - acc: 0.7348 - val_loss: 0.5687 - val_acc: 0.7349\n",
      "Epoch 4/10\n",
      "769/769 [==============================] - 163s 212ms/step - loss: 0.5714 - acc: 0.7348 - val_loss: 0.5696 - val_acc: 0.7349\n",
      "Epoch 5/10\n",
      "769/769 [==============================] - 163s 212ms/step - loss: 0.5683 - acc: 0.7348 - val_loss: 0.5637 - val_acc: 0.7349\n",
      "Epoch 6/10\n",
      "769/769 [==============================] - 164s 213ms/step - loss: 0.5648 - acc: 0.7348 - val_loss: 0.5606 - val_acc: 0.7349\n",
      "Epoch 7/10\n",
      "769/769 [==============================] - 164s 214ms/step - loss: 0.5650 - acc: 0.7348 - val_loss: 0.5617 - val_acc: 0.7349\n",
      "Epoch 8/10\n",
      "769/769 [==============================] - 163s 212ms/step - loss: 0.5629 - acc: 0.7348 - val_loss: 0.5610 - val_acc: 0.7349\n",
      "Epoch 9/10\n",
      "769/769 [==============================] - 163s 212ms/step - loss: 0.5615 - acc: 0.7348 - val_loss: 0.5584 - val_acc: 0.7349\n",
      "Epoch 10/10\n",
      "769/769 [==============================] - 164s 213ms/step - loss: 0.5609 - acc: 0.7348 - val_loss: 0.5569 - val_acc: 0.7349\n"
     ]
    }
   ],
   "source": [
    "# Building the model\n",
    "\n",
    "vgg16_model = tf.keras.Sequential([\n",
    "  layers.Conv2D(64, (3,3), padding=\"same\", input_shape=(224,224,3), activation = 'relu'),\n",
    "    \n",
    "  layers.Conv2D(64, 3, padding='same', activation='relu'),\n",
    "  layers.MaxPool2D(2, strides=2, padding='same'),\n",
    "\n",
    "  layers.Conv2D(28, 3, padding='same', activation='relu'),\n",
    "  layers.Conv2D(128, 3, padding='same', activation='relu'),\n",
    "  layers.MaxPool2D(2, strides=2, padding='same'),\n",
    "\n",
    "  layers.Conv2D(256, 3, padding='same', activation='relu'),\n",
    "  layers.Conv2D(256, 3, padding='same', activation='relu'),\n",
    "  layers.Conv2D(256, 3, padding='same', activation='relu'),\n",
    "  layers.MaxPool2D(2, strides=2, padding='same'),\n",
    "\n",
    "  layers.Conv2D(512, 3, padding='same', activation='relu'),\n",
    "  layers.Conv2D(512, 3, padding='same', activation='relu'),\n",
    " layers.Conv2D(512, 3, padding='same', activation='relu'),\n",
    "  layers.MaxPool2D(2, strides=2, padding='same'),\n",
    "\n",
    "  layers.Conv2D(512, 3, padding='same', activation='relu'),\n",
    "  layers.Conv2D(512, 3, padding='same', activation='relu'),\n",
    " layers.Conv2D(512, 3, padding='same', activation='relu'),\n",
    "  layers.MaxPool2D(2, strides=2, padding='same'),\n",
    "  layers.Flatten(),\n",
    "  layers.Dense(4096, activation='relu'),\n",
    "  layers.Dense(4096, activation='relu'),\n",
    "\n",
    "  layers.Dense(2, activation='softmax')\n",
    "])\n",
    "\n",
    "vgg16_model.compile(optimizer=tf.keras.optimizers.Adam(lr = 1e-5),\n",
    "              loss=tf.keras.losses.BinaryCrossentropy(),\n",
    "              metrics=['acc'])\n",
    "\n",
    "history = vgg16_model.fit(train_batches,\n",
    "                    epochs=10,\n",
    "                    validation_data=val_batches)"
   ]
  },
  {
   "cell_type": "code",
   "execution_count": 18,
   "id": "d56467f9",
   "metadata": {
    "execution": {
     "iopub.execute_input": "2022-08-29T00:38:33.225420Z",
     "iopub.status.busy": "2022-08-29T00:38:33.225039Z",
     "iopub.status.idle": "2022-08-29T00:38:40.166756Z",
     "shell.execute_reply": "2022-08-29T00:38:40.165594Z"
    },
    "papermill": {
     "duration": 8.046148,
     "end_time": "2022-08-29T00:38:40.169781",
     "exception": false,
     "start_time": "2022-08-29T00:38:32.123633",
     "status": "completed"
    },
    "tags": []
   },
   "outputs": [
    {
     "name": "stderr",
     "output_type": "stream",
     "text": [
      "2022-08-29 00:38:35.565659: W tensorflow/core/framework/cpu_allocator_impl.cc:80] Allocation of 411041792 exceeds 10% of free system memory.\n",
      "2022-08-29 00:38:36.026040: W tensorflow/core/framework/cpu_allocator_impl.cc:80] Allocation of 411041792 exceeds 10% of free system memory.\n",
      "2022-08-29 00:38:36.480350: W tensorflow/core/framework/cpu_allocator_impl.cc:80] Allocation of 411041792 exceeds 10% of free system memory.\n"
     ]
    }
   ],
   "source": [
    "vgg16_model.save('dissertation-VGG.model')"
   ]
  },
  {
   "cell_type": "code",
   "execution_count": 19,
   "id": "6502336f",
   "metadata": {
    "execution": {
     "iopub.execute_input": "2022-08-29T00:38:42.543385Z",
     "iopub.status.busy": "2022-08-29T00:38:42.542947Z",
     "iopub.status.idle": "2022-08-29T00:38:54.435398Z",
     "shell.execute_reply": "2022-08-29T00:38:54.434414Z"
    },
    "papermill": {
     "duration": 13.047532,
     "end_time": "2022-08-29T00:38:54.437861",
     "exception": false,
     "start_time": "2022-08-29T00:38:41.390329",
     "status": "completed"
    },
    "tags": []
   },
   "outputs": [],
   "source": [
    "Y_pred_vgg=vgg16_model.predict(test_batches)\n",
    "y_pred_vgg = np.argmax(Y_pred_vgg, axis=1)"
   ]
  },
  {
   "cell_type": "code",
   "execution_count": 20,
   "id": "b612e13f",
   "metadata": {
    "execution": {
     "iopub.execute_input": "2022-08-29T00:38:56.587723Z",
     "iopub.status.busy": "2022-08-29T00:38:56.587117Z",
     "iopub.status.idle": "2022-08-29T00:38:56.836354Z",
     "shell.execute_reply": "2022-08-29T00:38:56.835434Z"
    },
    "papermill": {
     "duration": 1.343941,
     "end_time": "2022-08-29T00:38:56.838688",
     "exception": false,
     "start_time": "2022-08-29T00:38:55.494747",
     "status": "completed"
    },
    "tags": []
   },
   "outputs": [
    {
     "data": {
      "image/png": "[encoded data removed]",
      "text/plain": [
       "<Figure size 360x360 with 2 Axes>"
      ]
     },
     "metadata": {
      "needs_background": "light"
     },
     "output_type": "display_data"
    }
   ],
   "source": [
    "confusion_mtx = confusion_matrix(y_pred_vgg, test_batches.classes)\n",
    "f,ax = plt.subplots(figsize=(5, 5))\n",
    "sns.heatmap(confusion_mtx, annot=True, \n",
    "            linewidths=0.01,\n",
    "            linecolor=\"white\", \n",
    "            fmt= '.1f',ax=ax,)\n",
    "sns.color_palette(\"rocket\", as_cmap=True)\n",
    "\n",
    "plt.xlabel(\"Predicted Label\")\n",
    "plt.ylabel(\"True Label\")\n",
    "ax.xaxis.set_ticklabels(test_batches.class_indices)\n",
    "patient_labels = ['No DR','DR']\n",
    "ax.yaxis.set_ticklabels(patient_labels)\n",
    "plt.title(\"Confusion Matrix - VGG16\")\n",
    "plt.show()"
   ]
  },
  {
   "cell_type": "code",
   "execution_count": 21,
   "id": "6545a241",
   "metadata": {
    "execution": {
     "iopub.execute_input": "2022-08-29T00:38:58.915580Z",
     "iopub.status.busy": "2022-08-29T00:38:58.915043Z",
     "iopub.status.idle": "2022-08-29T00:38:59.106129Z",
     "shell.execute_reply": "2022-08-29T00:38:59.105200Z"
    },
    "papermill": {
     "duration": 1.256659,
     "end_time": "2022-08-29T00:38:59.108380",
     "exception": false,
     "start_time": "2022-08-29T00:38:57.851721",
     "status": "completed"
    },
    "tags": []
   },
   "outputs": [
    {
     "data": {
      "image/png": "[encoded data removed]",
      "text/plain": [
       "<Figure size 432x288 with 1 Axes>"
      ]
     },
     "metadata": {
      "needs_background": "light"
     },
     "output_type": "display_data"
    }
   ],
   "source": [
    "fpr = 0\n",
    "tpr = 0\n",
    "roc_auc = 0\n",
    "fpr, tpr, _ = roc_curve(test_batches.classes, y_pred_vgg)\n",
    "roc_auc = auc(fpr, tpr)\n",
    "plt.figure()\n",
    "plt.plot(\n",
    "    fpr,\n",
    "    tpr,\n",
    "    color=\"darkorange\",\n",
    "    lw=2,\n",
    "    label=\"ROC curve (area = %0.2f)\" % roc_auc,\n",
    ")\n",
    "plt.xlim([0.0, 1.0])\n",
    "plt.ylim([0.0, 1.05])\n",
    "plt.xlabel(\"False Positive Rate\")\n",
    "plt.ylabel(\"True Positive Rate\")\n",
    "plt.title(\"Receiver operating characteristic - VGG16\")\n",
    "plt.legend(loc=\"lower right\")\n",
    "plt.show()"
   ]
  },
  {
   "cell_type": "code",
   "execution_count": 22,
   "id": "e91eaecc",
   "metadata": {
    "execution": {
     "iopub.execute_input": "2022-08-29T00:39:01.234995Z",
     "iopub.status.busy": "2022-08-29T00:39:01.234368Z",
     "iopub.status.idle": "2022-08-29T00:39:01.252471Z",
     "shell.execute_reply": "2022-08-29T00:39:01.251487Z"
    },
    "papermill": {
     "duration": 1.092605,
     "end_time": "2022-08-29T00:39:01.254640",
     "exception": false,
     "start_time": "2022-08-29T00:39:00.162035",
     "status": "completed"
    },
    "tags": []
   },
   "outputs": [
    {
     "name": "stdout",
     "output_type": "stream",
     "text": [
      "              precision    recall  f1-score   support\n",
      "\n",
      "           0       0.00      0.00      0.00      1398\n",
      "           1       0.73      1.00      0.85      3871\n",
      "\n",
      "    accuracy                           0.73      5269\n",
      "   macro avg       0.37      0.50      0.42      5269\n",
      "weighted avg       0.54      0.73      0.62      5269\n",
      "\n"
     ]
    },
    {
     "name": "stderr",
     "output_type": "stream",
     "text": [
      "/opt/conda/lib/python3.7/site-packages/sklearn/metrics/_classification.py:1318: UndefinedMetricWarning: Precision and F-score are ill-defined and being set to 0.0 in labels with no predicted samples. Use `zero_division` parameter to control this behavior.\n",
      "  _warn_prf(average, modifier, msg_start, len(result))\n",
      "/opt/conda/lib/python3.7/site-packages/sklearn/metrics/_classification.py:1318: UndefinedMetricWarning: Precision and F-score are ill-defined and being set to 0.0 in labels with no predicted samples. Use `zero_division` parameter to control this behavior.\n",
      "  _warn_prf(average, modifier, msg_start, len(result))\n",
      "/opt/conda/lib/python3.7/site-packages/sklearn/metrics/_classification.py:1318: UndefinedMetricWarning: Precision and F-score are ill-defined and being set to 0.0 in labels with no predicted samples. Use `zero_division` parameter to control this behavior.\n",
      "  _warn_prf(average, modifier, msg_start, len(result))\n"
     ]
    }
   ],
   "source": [
    "print(classification_report(test_batches.classes, y_pred_vgg))"
   ]
  },
  {
   "cell_type": "code",
   "execution_count": 23,
   "id": "ab3d0b1b",
   "metadata": {
    "execution": {
     "iopub.execute_input": "2022-08-29T00:39:03.594096Z",
     "iopub.status.busy": "2022-08-29T00:39:03.593674Z",
     "iopub.status.idle": "2022-08-29T00:39:24.177616Z",
     "shell.execute_reply": "2022-08-29T00:39:24.176131Z"
    },
    "papermill": {
     "duration": 21.652084,
     "end_time": "2022-08-29T00:39:24.179833",
     "exception": false,
     "start_time": "2022-08-29T00:39:02.527749",
     "status": "completed"
    },
    "tags": []
   },
   "outputs": [
    {
     "name": "stderr",
     "output_type": "stream",
     "text": [
      "/opt/conda/lib/python3.7/site-packages/keras/engine/training.py:2006: UserWarning: `Model.evaluate_generator` is deprecated and will be removed in a future version. Please use `Model.evaluate`, which supports generators.\n",
      "  warnings.warn('`Model.evaluate_generator` is deprecated and '\n"
     ]
    },
    {
     "name": "stdout",
     "output_type": "stream",
     "text": [
      "165/165 [==============================] - 14s 87ms/step - loss: 0.5558 - acc: 0.7347\n",
      "Accuracy:  0.7346745133399963\n"
     ]
    }
   ],
   "source": [
    "loss, acc = vgg16_model.evaluate_generator(test_batches, verbose=1)\n",
    "# print(\"Loss: \", loss)\n",
    "print(\"Accuracy: \", acc) \n"
   ]
  },
  {
   "cell_type": "code",
   "execution_count": 24,
   "id": "c8e33685",
   "metadata": {
    "execution": {
     "iopub.execute_input": "2022-08-29T00:39:26.267387Z",
     "iopub.status.busy": "2022-08-29T00:39:26.266800Z",
     "iopub.status.idle": "2022-08-29T00:39:26.275153Z",
     "shell.execute_reply": "2022-08-29T00:39:26.273916Z"
    },
    "papermill": {
     "duration": 1.022619,
     "end_time": "2022-08-29T00:39:26.277503",
     "exception": false,
     "start_time": "2022-08-29T00:39:25.254884",
     "status": "completed"
    },
    "tags": []
   },
   "outputs": [
    {
     "name": "stdout",
     "output_type": "stream",
     "text": [
      "VGG16 Cohen Kappas Value: 0.08379401699348599\n"
     ]
    }
   ],
   "source": [
    "print('VGG16 Cohen Kappas Value: ' + str(cohen_kappa_score(test_batches.classes, y_pred, labels=None, weights=None)))"
   ]
  },
  {
   "cell_type": "markdown",
   "id": "ef6fae3b",
   "metadata": {
    "papermill": {
     "duration": 1.083463,
     "end_time": "2022-08-29T00:39:28.447356",
     "exception": false,
     "start_time": "2022-08-29T00:39:27.363893",
     "status": "completed"
    },
    "tags": []
   },
   "source": [
    "### AlexNet"
   ]
  },
  {
   "cell_type": "code",
   "execution_count": 25,
   "id": "b1701636",
   "metadata": {
    "execution": {
     "iopub.execute_input": "2022-08-29T00:39:30.546595Z",
     "iopub.status.busy": "2022-08-29T00:39:30.545431Z",
     "iopub.status.idle": "2022-08-29T00:52:20.738952Z",
     "shell.execute_reply": "2022-08-29T00:52:20.737918Z"
    },
    "papermill": {
     "duration": 771.288406,
     "end_time": "2022-08-29T00:52:20.741384",
     "exception": false,
     "start_time": "2022-08-29T00:39:29.452978",
     "status": "completed"
    },
    "tags": []
   },
   "outputs": [
    {
     "name": "stderr",
     "output_type": "stream",
     "text": [
      "/opt/conda/lib/python3.7/site-packages/keras/optimizer_v2/optimizer_v2.py:356: UserWarning: The `lr` argument is deprecated, use `learning_rate` instead.\n",
      "  \"The `lr` argument is deprecated, use `learning_rate` instead.\")\n"
     ]
    },
    {
     "name": "stdout",
     "output_type": "stream",
     "text": [
      "Epoch 1/10\n",
      "769/769 [==============================] - 76s 97ms/step - loss: 0.6040 - acc: 0.7188 - val_loss: 0.5654 - val_acc: 0.7318\n",
      "Epoch 2/10\n",
      "769/769 [==============================] - 73s 94ms/step - loss: 0.5640 - acc: 0.7357 - val_loss: 0.5575 - val_acc: 0.7330\n",
      "Epoch 3/10\n",
      "769/769 [==============================] - 72s 94ms/step - loss: 0.5530 - acc: 0.7365 - val_loss: 0.5672 - val_acc: 0.7318\n",
      "Epoch 4/10\n",
      "769/769 [==============================] - 74s 96ms/step - loss: 0.5437 - acc: 0.7422 - val_loss: 0.5606 - val_acc: 0.7339\n",
      "Epoch 5/10\n",
      "769/769 [==============================] - 74s 96ms/step - loss: 0.5330 - acc: 0.7467 - val_loss: 0.5626 - val_acc: 0.7307\n",
      "Epoch 6/10\n",
      "769/769 [==============================] - 77s 100ms/step - loss: 0.5238 - acc: 0.7541 - val_loss: 0.5514 - val_acc: 0.7425\n",
      "Epoch 7/10\n",
      "769/769 [==============================] - 74s 96ms/step - loss: 0.5068 - acc: 0.7608 - val_loss: 0.5587 - val_acc: 0.7339\n",
      "Epoch 8/10\n",
      "769/769 [==============================] - 74s 96ms/step - loss: 0.4915 - acc: 0.7720 - val_loss: 0.5702 - val_acc: 0.7282\n",
      "Epoch 9/10\n",
      "769/769 [==============================] - 73s 95ms/step - loss: 0.4685 - acc: 0.7840 - val_loss: 0.5690 - val_acc: 0.7258\n",
      "Epoch 10/10\n",
      "769/769 [==============================] - 74s 96ms/step - loss: 0.4418 - acc: 0.7979 - val_loss: 0.5831 - val_acc: 0.7235\n"
     ]
    }
   ],
   "source": [
    "# Building the model\n",
    "\n",
    "alex_net_model = tf.keras.Sequential([\n",
    "  layers.Conv2D(96,  11, strides=4, padding=\"same\", input_shape=(224,224,3), activation = 'relu'),\n",
    " layers.BatchNormalization(),\n",
    " layers.MaxPool2D(3, strides=2),\n",
    "  layers.Conv2D(256, 5, padding='same', activation='relu'),\n",
    "  layers.BatchNormalization(),\n",
    "  layers.MaxPool2D(3, strides=2),\n",
    " layers.Conv2D(384, 3, strides=1, padding='same', activation='relu'),\n",
    " layers.Conv2D(384, 3, strides=1, padding='same', activation='relu'),\n",
    " layers.Conv2D(256, 3, strides=1, padding='same', activation='relu'),\n",
    " layers.BatchNormalization(),\n",
    " layers.MaxPool2D(3, strides=2),\n",
    " layers.Flatten(),\n",
    " layers.Dense(4096, activation='relu'),\n",
    " layers.Dense(4096, activation='relu'),\n",
    " layers.Dense(2, activation='softmax'),\n",
    "])\n",
    "\n",
    "alex_net_model.compile(optimizer=tf.keras.optimizers.Adam(lr = 1e-5),\n",
    "              loss=tf.keras.losses.BinaryCrossentropy(),\n",
    "              metrics=['acc'])\n",
    "\n",
    "history = alex_net_model.fit(train_batches,\n",
    "                    epochs=10,\n",
    "                    validation_data=val_batches)"
   ]
  },
  {
   "cell_type": "code",
   "execution_count": 26,
   "id": "83658a5a",
   "metadata": {
    "execution": {
     "iopub.execute_input": "2022-08-29T00:52:23.745758Z",
     "iopub.status.busy": "2022-08-29T00:52:23.745393Z",
     "iopub.status.idle": "2022-08-29T00:52:27.624488Z",
     "shell.execute_reply": "2022-08-29T00:52:27.623504Z"
    },
    "papermill": {
     "duration": 5.402588,
     "end_time": "2022-08-29T00:52:27.627175",
     "exception": false,
     "start_time": "2022-08-29T00:52:22.224587",
     "status": "completed"
    },
    "tags": []
   },
   "outputs": [],
   "source": [
    "alex_net_model.save('dissertation-alex.model')"
   ]
  },
  {
   "cell_type": "code",
   "execution_count": 27,
   "id": "71778890",
   "metadata": {
    "execution": {
     "iopub.execute_input": "2022-08-29T00:52:30.663647Z",
     "iopub.status.busy": "2022-08-29T00:52:30.663090Z",
     "iopub.status.idle": "2022-08-29T00:52:43.125341Z",
     "shell.execute_reply": "2022-08-29T00:52:43.124318Z"
    },
    "papermill": {
     "duration": 14.02251,
     "end_time": "2022-08-29T00:52:43.127608",
     "exception": false,
     "start_time": "2022-08-29T00:52:29.105098",
     "status": "completed"
    },
    "tags": []
   },
   "outputs": [],
   "source": [
    "Y_pred_alex=alex_net_model.predict(test_batches)\n",
    "y_pred_alex = np.argmax(Y_pred_alex, axis=1)"
   ]
  },
  {
   "cell_type": "code",
   "execution_count": 28,
   "id": "dd0ee3f8",
   "metadata": {
    "execution": {
     "iopub.execute_input": "2022-08-29T00:52:46.794560Z",
     "iopub.status.busy": "2022-08-29T00:52:46.794133Z",
     "iopub.status.idle": "2022-08-29T00:52:47.031734Z",
     "shell.execute_reply": "2022-08-29T00:52:47.030645Z"
    },
    "papermill": {
     "duration": 1.956506,
     "end_time": "2022-08-29T00:52:47.035029",
     "exception": false,
     "start_time": "2022-08-29T00:52:45.078523",
     "status": "completed"
    },
    "tags": []
   },
   "outputs": [
    {
     "data": {
      "image/png": "[encoded data removed]",
      "text/plain": [
       "<Figure size 360x360 with 2 Axes>"
      ]
     },
     "metadata": {
      "needs_background": "light"
     },
     "output_type": "display_data"
    }
   ],
   "source": [
    "confusion_mtx = confusion_matrix(y_pred_alex, test_batches.classes)\n",
    "f,ax = plt.subplots(figsize=(5, 5))\n",
    "sns.heatmap(confusion_mtx, annot=True, \n",
    "            linewidths=0.01,\n",
    "            linecolor=\"white\", \n",
    "            fmt= '.1f',ax=ax,)\n",
    "sns.color_palette(\"rocket\", as_cmap=True)\n",
    "\n",
    "plt.xlabel(\"Predicted Label\")\n",
    "plt.ylabel(\"True Label\")\n",
    "ax.xaxis.set_ticklabels(test_batches.class_indices)\n",
    "patient_labels = ['No DR','DR']\n",
    "ax.yaxis.set_ticklabels(patient_labels)\n",
    "plt.title(\"Confusion Matrix - Alex Net\")\n",
    "plt.show()"
   ]
  },
  {
   "cell_type": "code",
   "execution_count": 29,
   "id": "9aeddbf8",
   "metadata": {
    "execution": {
     "iopub.execute_input": "2022-08-29T00:52:49.950838Z",
     "iopub.status.busy": "2022-08-29T00:52:49.950306Z",
     "iopub.status.idle": "2022-08-29T00:52:50.143169Z",
     "shell.execute_reply": "2022-08-29T00:52:50.142165Z"
    },
    "papermill": {
     "duration": 1.669038,
     "end_time": "2022-08-29T00:52:50.145237",
     "exception": false,
     "start_time": "2022-08-29T00:52:48.476199",
     "status": "completed"
    },
    "tags": []
   },
   "outputs": [
    {
     "data": {
      "image/png": "[encoded data removed]",
      "text/plain": [
       "<Figure size 432x288 with 1 Axes>"
      ]
     },
     "metadata": {
      "needs_background": "light"
     },
     "output_type": "display_data"
    }
   ],
   "source": [
    "fpr = 0\n",
    "tpr = 0\n",
    "roc_auc = 0\n",
    "fpr, tpr, _ = roc_curve(test_batches.classes, y_pred_alex)\n",
    "roc_auc = auc(fpr, tpr)\n",
    "plt.figure()\n",
    "plt.plot(\n",
    "    fpr,\n",
    "    tpr,\n",
    "    color=\"darkorange\",\n",
    "    lw=2,\n",
    "    label=\"ROC curve (area = %0.2f)\" % roc_auc,\n",
    ")\n",
    "plt.xlim([0.0, 1.0])\n",
    "plt.ylim([0.0, 1.05])\n",
    "plt.xlabel(\"False Positive Rate\")\n",
    "plt.ylabel(\"True Positive Rate\")\n",
    "plt.title(\"Receiver operating characteristic - Alex Net\")\n",
    "plt.legend(loc=\"lower right\")\n",
    "plt.show()"
   ]
  },
  {
   "cell_type": "code",
   "execution_count": 30,
   "id": "cf58c681",
   "metadata": {
    "execution": {
     "iopub.execute_input": "2022-08-29T00:52:53.099516Z",
     "iopub.status.busy": "2022-08-29T00:52:53.099015Z",
     "iopub.status.idle": "2022-08-29T00:52:53.115517Z",
     "shell.execute_reply": "2022-08-29T00:52:53.114312Z"
    },
    "papermill": {
     "duration": 1.432949,
     "end_time": "2022-08-29T00:52:53.117492",
     "exception": false,
     "start_time": "2022-08-29T00:52:51.684543",
     "status": "completed"
    },
    "tags": []
   },
   "outputs": [
    {
     "name": "stdout",
     "output_type": "stream",
     "text": [
      "              precision    recall  f1-score   support\n",
      "\n",
      "           0       0.48      0.25      0.33      1398\n",
      "           1       0.77      0.90      0.83      3871\n",
      "\n",
      "    accuracy                           0.73      5269\n",
      "   macro avg       0.63      0.58      0.58      5269\n",
      "weighted avg       0.69      0.73      0.70      5269\n",
      "\n"
     ]
    }
   ],
   "source": [
    "print(classification_report(test_batches.classes, y_pred_alex))"
   ]
  },
  {
   "cell_type": "code",
   "execution_count": 31,
   "id": "a8084d29",
   "metadata": {
    "execution": {
     "iopub.execute_input": "2022-08-29T00:52:56.137138Z",
     "iopub.status.busy": "2022-08-29T00:52:56.136507Z",
     "iopub.status.idle": "2022-08-29T00:53:08.428058Z",
     "shell.execute_reply": "2022-08-29T00:53:08.426808Z"
    },
    "papermill": {
     "duration": 13.841953,
     "end_time": "2022-08-29T00:53:08.433260",
     "exception": false,
     "start_time": "2022-08-29T00:52:54.591307",
     "status": "completed"
    },
    "tags": []
   },
   "outputs": [
    {
     "name": "stderr",
     "output_type": "stream",
     "text": [
      "/opt/conda/lib/python3.7/site-packages/keras/engine/training.py:2006: UserWarning: `Model.evaluate_generator` is deprecated and will be removed in a future version. Please use `Model.evaluate`, which supports generators.\n",
      "  warnings.warn('`Model.evaluate_generator` is deprecated and '\n"
     ]
    },
    {
     "name": "stdout",
     "output_type": "stream",
     "text": [
      "165/165 [==============================] - 12s 74ms/step - loss: 0.5817 - acc: 0.7296\n",
      "Accuracy:  0.7295501828193665\n"
     ]
    }
   ],
   "source": [
    "loss, acc = alex_net_model.evaluate_generator(test_batches, verbose=1)\n",
    "# print(\"Loss: \", loss)\n",
    "print(\"Accuracy: \", acc) \n"
   ]
  },
  {
   "cell_type": "code",
   "execution_count": 32,
   "id": "c4694f20",
   "metadata": {
    "execution": {
     "iopub.execute_input": "2022-08-29T00:53:11.641181Z",
     "iopub.status.busy": "2022-08-29T00:53:11.640802Z",
     "iopub.status.idle": "2022-08-29T00:53:11.649696Z",
     "shell.execute_reply": "2022-08-29T00:53:11.648095Z"
    },
    "papermill": {
     "duration": 1.544665,
     "end_time": "2022-08-29T00:53:11.652661",
     "exception": false,
     "start_time": "2022-08-29T00:53:10.107996",
     "status": "completed"
    },
    "tags": []
   },
   "outputs": [
    {
     "name": "stdout",
     "output_type": "stream",
     "text": [
      "Alex Net Cohen Kappas Value: 0.08379401699348599\n"
     ]
    }
   ],
   "source": [
    "print('Alex Net Cohen Kappas Value: ' + str(cohen_kappa_score(test_batches.classes, y_pred, labels=None, weights=None)))"
   ]
  }
 ],
 "metadata": {
  "kernelspec": {
   "display_name": "Python 3",
   "language": "python",
   "name": "python3"
  },
  "language_info": {
   "codemirror_mode": {
    "name": "ipython",
    "version": 3
   },
   "file_extension": ".py",
   "mimetype": "text/x-python",
   "name": "python",
   "nbconvert_exporter": "python",
   "pygments_lexer": "ipython3",
   "version": "3.7.12"
  },
  "papermill": {
   "default_parameters": {},
   "duration": 4021.653581,
   "end_time": "2022-08-29T00:53:16.915133",
   "environment_variables": {},
   "exception": null,
   "input_path": "__notebook__.ipynb",
   "output_path": "__notebook__.ipynb",
   "parameters": {},
   "start_time": "2022-08-28T23:46:15.261552",
   "version": "2.3.4"
  }
 },
 "nbformat": 4,
 "nbformat_minor": 5
}
